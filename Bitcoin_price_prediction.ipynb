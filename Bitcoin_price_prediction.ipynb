{
  "nbformat": 4,
  "nbformat_minor": 0,
  "metadata": {
    "colab": {
      "name": "Bitcoin_price_prediction.ipynb",
      "provenance": [],
      "authorship_tag": "ABX9TyNMUhCqbjv9x6s7xnBcKpYJ",
      "include_colab_link": true
    },
    "kernelspec": {
      "name": "python3",
      "display_name": "Python 3"
    }
  },
  "cells": [
    {
      "cell_type": "markdown",
      "metadata": {
        "id": "view-in-github",
        "colab_type": "text"
      },
      "source": [
        "<a href=\"https://colab.research.google.com/github/iharshidas/Widhya_winternship/blob/main/Bitcoin_price_prediction.ipynb\" target=\"_parent\"><img src=\"https://colab.research.google.com/assets/colab-badge.svg\" alt=\"Open In Colab\"/></a>"
      ]
    },
    {
      "cell_type": "markdown",
      "metadata": {
        "id": "cRD6fU-fNydf"
      },
      "source": [
        "# **Bitcoin Price Prediction (Data Science)**\r\n",
        "### **By: Harshita Das**\r\n",
        "Widhya Winternship Mission-1"
      ]
    },
    {
      "cell_type": "code",
      "metadata": {
        "id": "XXWxGyig_7ft"
      },
      "source": [
        "# Importing the required libraries\r\n",
        "import pandas as pd\r\n",
        "import matplotlib.pyplot as plt\r\n",
        "import numpy as np\r\n",
        "import seaborn as sns"
      ],
      "execution_count": 39,
      "outputs": []
    },
    {
      "cell_type": "code",
      "metadata": {
        "colab": {
          "base_uri": "https://localhost:8080/",
          "height": 233
        },
        "id": "FwPayfJRAE-H",
        "outputId": "7071bbe7-68e1-447d-b56e-ba74242a7a40"
      },
      "source": [
        "# Reading the data from a url link into a dataframe\r\n",
        "link='https://raw.githubusercontent.com/WidhyaOrg/datasets/master/bitcoin_dataset.csv'\r\n",
        "bpp_df=pd.read_csv(link)\r\n",
        "print('Number of rows and columns: ',bpp_df.shape)\r\n",
        "bpp_df.head()"
      ],
      "execution_count": 40,
      "outputs": [
        {
          "output_type": "stream",
          "text": [
            "Number of rows and columns:  (2906, 24)\n"
          ],
          "name": "stdout"
        },
        {
          "output_type": "execute_result",
          "data": {
            "text/html": [
              "<div>\n",
              "<style scoped>\n",
              "    .dataframe tbody tr th:only-of-type {\n",
              "        vertical-align: middle;\n",
              "    }\n",
              "\n",
              "    .dataframe tbody tr th {\n",
              "        vertical-align: top;\n",
              "    }\n",
              "\n",
              "    .dataframe thead th {\n",
              "        text-align: right;\n",
              "    }\n",
              "</style>\n",
              "<table border=\"1\" class=\"dataframe\">\n",
              "  <thead>\n",
              "    <tr style=\"text-align: right;\">\n",
              "      <th></th>\n",
              "      <th>Date</th>\n",
              "      <th>btc_market_price</th>\n",
              "      <th>btc_total_bitcoins</th>\n",
              "      <th>btc_market_cap</th>\n",
              "      <th>btc_trade_volume</th>\n",
              "      <th>btc_blocks_size</th>\n",
              "      <th>btc_avg_block_size</th>\n",
              "      <th>btc_n_orphaned_blocks</th>\n",
              "      <th>btc_n_transactions_per_block</th>\n",
              "      <th>btc_median_confirmation_time</th>\n",
              "      <th>btc_hash_rate</th>\n",
              "      <th>btc_difficulty</th>\n",
              "      <th>btc_miners_revenue</th>\n",
              "      <th>btc_transaction_fees</th>\n",
              "      <th>btc_cost_per_transaction_percent</th>\n",
              "      <th>btc_cost_per_transaction</th>\n",
              "      <th>btc_n_unique_addresses</th>\n",
              "      <th>btc_n_transactions</th>\n",
              "      <th>btc_n_transactions_total</th>\n",
              "      <th>btc_n_transactions_excluding_popular</th>\n",
              "      <th>btc_n_transactions_excluding_chains_longer_than_100</th>\n",
              "      <th>btc_output_volume</th>\n",
              "      <th>btc_estimated_transaction_volume</th>\n",
              "      <th>btc_estimated_transaction_volume_usd</th>\n",
              "    </tr>\n",
              "  </thead>\n",
              "  <tbody>\n",
              "    <tr>\n",
              "      <th>0</th>\n",
              "      <td>2/17/2010</td>\n",
              "      <td>0.0</td>\n",
              "      <td>2043200.0</td>\n",
              "      <td>0.0</td>\n",
              "      <td>0.0</td>\n",
              "      <td>0.0</td>\n",
              "      <td>0.000235</td>\n",
              "      <td>0</td>\n",
              "      <td>1.0</td>\n",
              "      <td>0.0</td>\n",
              "      <td>0.000029</td>\n",
              "      <td>2.527738</td>\n",
              "      <td>0.0</td>\n",
              "      <td>0.0</td>\n",
              "      <td>31.781022</td>\n",
              "      <td>0.0</td>\n",
              "      <td>241</td>\n",
              "      <td>244</td>\n",
              "      <td>41240</td>\n",
              "      <td>244</td>\n",
              "      <td>244</td>\n",
              "      <td>65173.13</td>\n",
              "      <td>36500.0</td>\n",
              "      <td>0.0</td>\n",
              "    </tr>\n",
              "    <tr>\n",
              "      <th>1</th>\n",
              "      <td>2/18/2010</td>\n",
              "      <td>0.0</td>\n",
              "      <td>2054650.0</td>\n",
              "      <td>0.0</td>\n",
              "      <td>0.0</td>\n",
              "      <td>0.0</td>\n",
              "      <td>0.000241</td>\n",
              "      <td>0</td>\n",
              "      <td>1.0</td>\n",
              "      <td>0.0</td>\n",
              "      <td>0.000029</td>\n",
              "      <td>2.527738</td>\n",
              "      <td>0.0</td>\n",
              "      <td>0.0</td>\n",
              "      <td>154.463801</td>\n",
              "      <td>0.0</td>\n",
              "      <td>234</td>\n",
              "      <td>235</td>\n",
              "      <td>41475</td>\n",
              "      <td>235</td>\n",
              "      <td>235</td>\n",
              "      <td>18911.74</td>\n",
              "      <td>7413.0</td>\n",
              "      <td>0.0</td>\n",
              "    </tr>\n",
              "    <tr>\n",
              "      <th>2</th>\n",
              "      <td>2/19/2010</td>\n",
              "      <td>0.0</td>\n",
              "      <td>2063600.0</td>\n",
              "      <td>0.0</td>\n",
              "      <td>0.0</td>\n",
              "      <td>0.0</td>\n",
              "      <td>0.000228</td>\n",
              "      <td>0</td>\n",
              "      <td>1.0</td>\n",
              "      <td>0.0</td>\n",
              "      <td>0.000023</td>\n",
              "      <td>2.527738</td>\n",
              "      <td>0.0</td>\n",
              "      <td>0.0</td>\n",
              "      <td>1278.516635</td>\n",
              "      <td>0.0</td>\n",
              "      <td>185</td>\n",
              "      <td>183</td>\n",
              "      <td>41658</td>\n",
              "      <td>183</td>\n",
              "      <td>183</td>\n",
              "      <td>9749.98</td>\n",
              "      <td>700.0</td>\n",
              "      <td>0.0</td>\n",
              "    </tr>\n",
              "    <tr>\n",
              "      <th>3</th>\n",
              "      <td>2/20/2010</td>\n",
              "      <td>0.0</td>\n",
              "      <td>2074700.0</td>\n",
              "      <td>0.0</td>\n",
              "      <td>0.0</td>\n",
              "      <td>0.0</td>\n",
              "      <td>0.000218</td>\n",
              "      <td>0</td>\n",
              "      <td>1.0</td>\n",
              "      <td>0.0</td>\n",
              "      <td>0.000028</td>\n",
              "      <td>2.527738</td>\n",
              "      <td>0.0</td>\n",
              "      <td>0.0</td>\n",
              "      <td>22186.687990</td>\n",
              "      <td>0.0</td>\n",
              "      <td>224</td>\n",
              "      <td>224</td>\n",
              "      <td>41882</td>\n",
              "      <td>224</td>\n",
              "      <td>224</td>\n",
              "      <td>11150.03</td>\n",
              "      <td>50.0</td>\n",
              "      <td>0.0</td>\n",
              "    </tr>\n",
              "    <tr>\n",
              "      <th>4</th>\n",
              "      <td>2/21/2010</td>\n",
              "      <td>0.0</td>\n",
              "      <td>2085400.0</td>\n",
              "      <td>0.0</td>\n",
              "      <td>0.0</td>\n",
              "      <td>0.0</td>\n",
              "      <td>0.000234</td>\n",
              "      <td>0</td>\n",
              "      <td>1.0</td>\n",
              "      <td>0.0</td>\n",
              "      <td>0.000027</td>\n",
              "      <td>2.527738</td>\n",
              "      <td>0.0</td>\n",
              "      <td>0.0</td>\n",
              "      <td>689.179876</td>\n",
              "      <td>0.0</td>\n",
              "      <td>218</td>\n",
              "      <td>218</td>\n",
              "      <td>42100</td>\n",
              "      <td>218</td>\n",
              "      <td>218</td>\n",
              "      <td>12266.83</td>\n",
              "      <td>1553.0</td>\n",
              "      <td>0.0</td>\n",
              "    </tr>\n",
              "  </tbody>\n",
              "</table>\n",
              "</div>"
            ],
            "text/plain": [
              "        Date  ...  btc_estimated_transaction_volume_usd\n",
              "0  2/17/2010  ...                                   0.0\n",
              "1  2/18/2010  ...                                   0.0\n",
              "2  2/19/2010  ...                                   0.0\n",
              "3  2/20/2010  ...                                   0.0\n",
              "4  2/21/2010  ...                                   0.0\n",
              "\n",
              "[5 rows x 24 columns]"
            ]
          },
          "metadata": {
            "tags": []
          },
          "execution_count": 40
        }
      ]
    },
    {
      "cell_type": "code",
      "metadata": {
        "colab": {
          "base_uri": "https://localhost:8080/"
        },
        "id": "SlCHRQo0BUs7",
        "outputId": "1270ad03-8a13-4d64-a1f2-7d4c82f49d38"
      },
      "source": [
        "# Printing the 1024th value in 'btc_market_price' column\r\n",
        "print(bpp_df['btc_market_price'].iloc[1023])"
      ],
      "execution_count": 41,
      "outputs": [
        {
          "output_type": "stream",
          "text": [
            "13.6888\n"
          ],
          "name": "stdout"
        }
      ]
    },
    {
      "cell_type": "code",
      "metadata": {
        "colab": {
          "base_uri": "https://localhost:8080/"
        },
        "id": "XdAUuEWHDbXx",
        "outputId": "df6210d5-b403-4324-f8bb-c38c5991b072"
      },
      "source": [
        "# Finding the column which shows highest correlation with the 'btc_market_price' column\r\n",
        "bpp_df[bpp_df.columns[1:]].corr()['btc_market_price'][:]"
      ],
      "execution_count": 42,
      "outputs": [
        {
          "output_type": "execute_result",
          "data": {
            "text/plain": [
              "btc_market_price                                       1.000000\n",
              "btc_total_bitcoins                                     0.392474\n",
              "btc_market_cap                                         0.999783\n",
              "btc_trade_volume                                       0.868813\n",
              "btc_blocks_size                                        0.674507\n",
              "btc_avg_block_size                                     0.544033\n",
              "btc_n_orphaned_blocks                                 -0.076400\n",
              "btc_n_transactions_per_block                           0.544125\n",
              "btc_median_confirmation_time                           0.275250\n",
              "btc_hash_rate                                          0.920876\n",
              "btc_difficulty                                         0.916937\n",
              "btc_miners_revenue                                     0.986732\n",
              "btc_transaction_fees                                   0.806595\n",
              "btc_cost_per_transaction_percent                      -0.013517\n",
              "btc_cost_per_transaction                               0.815507\n",
              "btc_n_unique_addresses                                 0.663917\n",
              "btc_n_transactions                                     0.569603\n",
              "btc_n_transactions_total                               0.680048\n",
              "btc_n_transactions_excluding_popular                   0.558416\n",
              "btc_n_transactions_excluding_chains_longer_than_100    0.567281\n",
              "btc_output_volume                                      0.111734\n",
              "btc_estimated_transaction_volume                       0.050894\n",
              "btc_estimated_transaction_volume_usd                   0.968308\n",
              "Name: btc_market_price, dtype: float64"
            ]
          },
          "metadata": {
            "tags": []
          },
          "execution_count": 42
        }
      ]
    },
    {
      "cell_type": "markdown",
      "metadata": {
        "id": "zp1xelSPEGOY"
      },
      "source": [
        "In the above correlation, we find that **\"btc_market_cap\" has the highest correlation to \"btc_market_price\" i.e., of 0.999783**"
      ]
    },
    {
      "cell_type": "code",
      "metadata": {
        "colab": {
          "base_uri": "https://localhost:8080/",
          "height": 195
        },
        "id": "42inslXsB3Xj",
        "outputId": "5f4848f1-2436-40da-9511-09643d8d19cd"
      },
      "source": [
        "bpp_new=bpp_df[['btc_market_price','btc_market_cap','btc_n_transactions','btc_n_transactions','btc_cost_per_transaction','btc_difficulty','btc_hash_rate','btc_cost_per_transaction_percent']].copy()\r\n",
        "bpp_new.head()"
      ],
      "execution_count": 43,
      "outputs": [
        {
          "output_type": "execute_result",
          "data": {
            "text/html": [
              "<div>\n",
              "<style scoped>\n",
              "    .dataframe tbody tr th:only-of-type {\n",
              "        vertical-align: middle;\n",
              "    }\n",
              "\n",
              "    .dataframe tbody tr th {\n",
              "        vertical-align: top;\n",
              "    }\n",
              "\n",
              "    .dataframe thead th {\n",
              "        text-align: right;\n",
              "    }\n",
              "</style>\n",
              "<table border=\"1\" class=\"dataframe\">\n",
              "  <thead>\n",
              "    <tr style=\"text-align: right;\">\n",
              "      <th></th>\n",
              "      <th>btc_market_price</th>\n",
              "      <th>btc_market_cap</th>\n",
              "      <th>btc_n_transactions</th>\n",
              "      <th>btc_n_transactions</th>\n",
              "      <th>btc_cost_per_transaction</th>\n",
              "      <th>btc_difficulty</th>\n",
              "      <th>btc_hash_rate</th>\n",
              "      <th>btc_cost_per_transaction_percent</th>\n",
              "    </tr>\n",
              "  </thead>\n",
              "  <tbody>\n",
              "    <tr>\n",
              "      <th>0</th>\n",
              "      <td>0.0</td>\n",
              "      <td>0.0</td>\n",
              "      <td>244</td>\n",
              "      <td>244</td>\n",
              "      <td>0.0</td>\n",
              "      <td>2.527738</td>\n",
              "      <td>0.000029</td>\n",
              "      <td>31.781022</td>\n",
              "    </tr>\n",
              "    <tr>\n",
              "      <th>1</th>\n",
              "      <td>0.0</td>\n",
              "      <td>0.0</td>\n",
              "      <td>235</td>\n",
              "      <td>235</td>\n",
              "      <td>0.0</td>\n",
              "      <td>2.527738</td>\n",
              "      <td>0.000029</td>\n",
              "      <td>154.463801</td>\n",
              "    </tr>\n",
              "    <tr>\n",
              "      <th>2</th>\n",
              "      <td>0.0</td>\n",
              "      <td>0.0</td>\n",
              "      <td>183</td>\n",
              "      <td>183</td>\n",
              "      <td>0.0</td>\n",
              "      <td>2.527738</td>\n",
              "      <td>0.000023</td>\n",
              "      <td>1278.516635</td>\n",
              "    </tr>\n",
              "    <tr>\n",
              "      <th>3</th>\n",
              "      <td>0.0</td>\n",
              "      <td>0.0</td>\n",
              "      <td>224</td>\n",
              "      <td>224</td>\n",
              "      <td>0.0</td>\n",
              "      <td>2.527738</td>\n",
              "      <td>0.000028</td>\n",
              "      <td>22186.687990</td>\n",
              "    </tr>\n",
              "    <tr>\n",
              "      <th>4</th>\n",
              "      <td>0.0</td>\n",
              "      <td>0.0</td>\n",
              "      <td>218</td>\n",
              "      <td>218</td>\n",
              "      <td>0.0</td>\n",
              "      <td>2.527738</td>\n",
              "      <td>0.000027</td>\n",
              "      <td>689.179876</td>\n",
              "    </tr>\n",
              "  </tbody>\n",
              "</table>\n",
              "</div>"
            ],
            "text/plain": [
              "   btc_market_price  ...  btc_cost_per_transaction_percent\n",
              "0               0.0  ...                         31.781022\n",
              "1               0.0  ...                        154.463801\n",
              "2               0.0  ...                       1278.516635\n",
              "3               0.0  ...                      22186.687990\n",
              "4               0.0  ...                        689.179876\n",
              "\n",
              "[5 rows x 8 columns]"
            ]
          },
          "metadata": {
            "tags": []
          },
          "execution_count": 43
        }
      ]
    },
    {
      "cell_type": "code",
      "metadata": {
        "id": "gyIOwWEsMVlc"
      },
      "source": [
        "# Importing the modelling libraries\r\n",
        "from sklearn.linear_model import LinearRegression  \r\n",
        "from sklearn.model_selection import train_test_split\r\n",
        "from sklearn import metrics\r\n",
        "from sklearn.impute import SimpleImputer as Imp"
      ],
      "execution_count": 44,
      "outputs": []
    },
    {
      "cell_type": "code",
      "metadata": {
        "id": "y1kOaoIiFaQD"
      },
      "source": [
        "# Dividing data into target and features\r\n",
        "y=bpp_new.iloc[:,0].values.reshape(-1, 1)\r\n",
        "X=bpp_new.iloc[:,1:].values"
      ],
      "execution_count": 56,
      "outputs": []
    },
    {
      "cell_type": "code",
      "metadata": {
        "colab": {
          "base_uri": "https://localhost:8080/"
        },
        "id": "NKPgbz8eLLnT",
        "outputId": "4c92cbeb-d4b4-4b18-940f-ea768984a6b7"
      },
      "source": [
        "bpp_new.isnull().sum()"
      ],
      "execution_count": 46,
      "outputs": [
        {
          "output_type": "execute_result",
          "data": {
            "text/plain": [
              "btc_market_price                     0\n",
              "btc_market_cap                       0\n",
              "btc_n_transactions                   0\n",
              "btc_n_transactions                   0\n",
              "btc_cost_per_transaction             0\n",
              "btc_difficulty                      16\n",
              "btc_hash_rate                        0\n",
              "btc_cost_per_transaction_percent     0\n",
              "dtype: int64"
            ]
          },
          "metadata": {
            "tags": []
          },
          "execution_count": 46
        }
      ]
    },
    {
      "cell_type": "code",
      "metadata": {
        "id": "C6ZATLBFNwDl"
      },
      "source": [
        "imp=Imp(missing_values=np.nan, strategy='mean')\r\n",
        "imp.fit(bpp_new[['btc_difficulty']])\r\n",
        "bpp_new['btc_difficulty']=imp.transform(bpp_new[['btc_difficulty']])"
      ],
      "execution_count": 47,
      "outputs": []
    },
    {
      "cell_type": "code",
      "metadata": {
        "colab": {
          "base_uri": "https://localhost:8080/"
        },
        "id": "isiEfrumOsvk",
        "outputId": "ce4fb6c7-0e94-4b43-e085-c4dcc5c60fd8"
      },
      "source": [
        "bpp_new.isnull().sum()"
      ],
      "execution_count": 48,
      "outputs": [
        {
          "output_type": "execute_result",
          "data": {
            "text/plain": [
              "btc_market_price                    0\n",
              "btc_market_cap                      0\n",
              "btc_n_transactions                  0\n",
              "btc_n_transactions                  0\n",
              "btc_cost_per_transaction            0\n",
              "btc_difficulty                      0\n",
              "btc_hash_rate                       0\n",
              "btc_cost_per_transaction_percent    0\n",
              "dtype: int64"
            ]
          },
          "metadata": {
            "tags": []
          },
          "execution_count": 48
        }
      ]
    },
    {
      "cell_type": "code",
      "metadata": {
        "id": "GxnA0y1WLf2_"
      },
      "source": [
        "# Splitting the data into training and testing set\r\n",
        "X_train, X_test, y_train, y_test=train_test_split(X,y,test_size=0.2,random_state=21)"
      ],
      "execution_count": 57,
      "outputs": []
    },
    {
      "cell_type": "code",
      "metadata": {
        "colab": {
          "base_uri": "https://localhost:8080/"
        },
        "id": "8oNIA3VuLk9C",
        "outputId": "cd35db6f-b701-480c-b4db-1032c34706a5"
      },
      "source": [
        "# Modelling the data\r\n",
        "linreg = LinearRegression()  \r\n",
        "linreg.fit(X_train, y_train)"
      ],
      "execution_count": 58,
      "outputs": [
        {
          "output_type": "execute_result",
          "data": {
            "text/plain": [
              "LinearRegression(copy_X=True, fit_intercept=True, n_jobs=None, normalize=False)"
            ]
          },
          "metadata": {
            "tags": []
          },
          "execution_count": 58
        }
      ]
    },
    {
      "cell_type": "code",
      "metadata": {
        "id": "6jmIu4ewJfno"
      },
      "source": [
        "# Predicting the test set\r\n",
        "y_pred=linreg.predict(X_test)"
      ],
      "execution_count": 59,
      "outputs": []
    },
    {
      "cell_type": "code",
      "metadata": {
        "colab": {
          "base_uri": "https://localhost:8080/"
        },
        "id": "HLrr-zhgJony",
        "outputId": "2df298a6-f3c7-424b-cdaa-ce4ff9ab73b9"
      },
      "source": [
        "# Evaluating the model using mean squared error\r\n",
        "print(\"Mean Squared Error: \", metrics.mean_squared_error(y_test, y_pred))"
      ],
      "execution_count": 61,
      "outputs": [
        {
          "output_type": "stream",
          "text": [
            "Mean Squared Error:  428.3357597881928\n"
          ],
          "name": "stdout"
        }
      ]
    }
  ]
}