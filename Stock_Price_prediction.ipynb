{
  "nbformat": 4,
  "nbformat_minor": 0,
  "metadata": {
    "colab": {
      "name": "Stock_Price_prediction.ipynb",
      "provenance": [],
      "authorship_tag": "ABX9TyOer9dj/nC4Ojbog0Y/RIDQ",
      "include_colab_link": true
    },
    "kernelspec": {
      "name": "python3",
      "display_name": "Python 3"
    }
  },
  "cells": [
    {
      "cell_type": "markdown",
      "metadata": {
        "id": "view-in-github",
        "colab_type": "text"
      },
      "source": [
        "<a href=\"https://colab.research.google.com/github/iharshidas/Widhya_winternship/blob/main/Stock_Price_prediction.ipynb\" target=\"_parent\"><img src=\"https://colab.research.google.com/assets/colab-badge.svg\" alt=\"Open In Colab\"/></a>"
      ]
    },
    {
      "cell_type": "markdown",
      "metadata": {
        "id": "XW5QLTg23dar"
      },
      "source": [
        "# **Stock Price Prediction using Linear Regression**\r\n",
        "### **By: Harshita Das**  \r\n",
        "Widhya Winternship Mission-2"
      ]
    },
    {
      "cell_type": "code",
      "metadata": {
        "colab": {
          "base_uri": "https://localhost:8080/"
        },
        "id": "k8_gmJdU0mjV",
        "outputId": "5a1df88c-a03a-4a9c-fb23-1a14f4a74ee9"
      },
      "source": [
        "# Importing the required modules\r\n",
        "import pandas as pd\r\n",
        "import numpy as np\r\n",
        "!pip install quandl"
      ],
      "execution_count": 1,
      "outputs": [
        {
          "output_type": "stream",
          "text": [
            "Collecting quandl\n",
            "  Downloading https://files.pythonhosted.org/packages/c2/58/9f0e69d836045e3865d263e9ed49f42b23a58526fdabb30f74c430baee3f/Quandl-3.6.0-py2.py3-none-any.whl\n",
            "Requirement already satisfied: numpy>=1.8 in /usr/local/lib/python3.6/dist-packages (from quandl) (1.19.5)\n",
            "Requirement already satisfied: requests>=2.7.0 in /usr/local/lib/python3.6/dist-packages (from quandl) (2.23.0)\n",
            "Requirement already satisfied: more-itertools in /usr/local/lib/python3.6/dist-packages (from quandl) (8.6.0)\n",
            "Requirement already satisfied: six in /usr/local/lib/python3.6/dist-packages (from quandl) (1.15.0)\n",
            "Requirement already satisfied: pandas>=0.14 in /usr/local/lib/python3.6/dist-packages (from quandl) (1.1.5)\n",
            "Collecting inflection>=0.3.1\n",
            "  Downloading https://files.pythonhosted.org/packages/59/91/aa6bde563e0085a02a435aa99b49ef75b0a4b062635e606dab23ce18d720/inflection-0.5.1-py2.py3-none-any.whl\n",
            "Requirement already satisfied: python-dateutil in /usr/local/lib/python3.6/dist-packages (from quandl) (2.8.1)\n",
            "Requirement already satisfied: chardet<4,>=3.0.2 in /usr/local/lib/python3.6/dist-packages (from requests>=2.7.0->quandl) (3.0.4)\n",
            "Requirement already satisfied: urllib3!=1.25.0,!=1.25.1,<1.26,>=1.21.1 in /usr/local/lib/python3.6/dist-packages (from requests>=2.7.0->quandl) (1.24.3)\n",
            "Requirement already satisfied: certifi>=2017.4.17 in /usr/local/lib/python3.6/dist-packages (from requests>=2.7.0->quandl) (2020.12.5)\n",
            "Requirement already satisfied: idna<3,>=2.5 in /usr/local/lib/python3.6/dist-packages (from requests>=2.7.0->quandl) (2.10)\n",
            "Requirement already satisfied: pytz>=2017.2 in /usr/local/lib/python3.6/dist-packages (from pandas>=0.14->quandl) (2018.9)\n",
            "Installing collected packages: inflection, quandl\n",
            "Successfully installed inflection-0.5.1 quandl-3.6.0\n"
          ],
          "name": "stdout"
        }
      ]
    },
    {
      "cell_type": "code",
      "metadata": {
        "id": "ltUqtW26IGoo"
      },
      "source": [
        "# Importing quandl module\r\n",
        "import quandl\r\n",
        "quandl.ApiConfig.api_key = \"oWacqmJWN6AJFg2YJ5Gt\""
      ],
      "execution_count": 2,
      "outputs": []
    },
    {
      "cell_type": "code",
      "metadata": {
        "colab": {
          "base_uri": "https://localhost:8080/",
          "height": 225
        },
        "id": "EITCeeyUKJfP",
        "outputId": "da9f7d73-be6a-4127-e8e2-c4f017a3cc43"
      },
      "source": [
        "# Reading the data into df dataframe\r\n",
        "df = quandl.get(\"EOD/AAPL\")\r\n",
        "df.head()"
      ],
      "execution_count": 3,
      "outputs": [
        {
          "output_type": "execute_result",
          "data": {
            "text/html": [
              "<div>\n",
              "<style scoped>\n",
              "    .dataframe tbody tr th:only-of-type {\n",
              "        vertical-align: middle;\n",
              "    }\n",
              "\n",
              "    .dataframe tbody tr th {\n",
              "        vertical-align: top;\n",
              "    }\n",
              "\n",
              "    .dataframe thead th {\n",
              "        text-align: right;\n",
              "    }\n",
              "</style>\n",
              "<table border=\"1\" class=\"dataframe\">\n",
              "  <thead>\n",
              "    <tr style=\"text-align: right;\">\n",
              "      <th></th>\n",
              "      <th>Open</th>\n",
              "      <th>High</th>\n",
              "      <th>Low</th>\n",
              "      <th>Close</th>\n",
              "      <th>Volume</th>\n",
              "      <th>Dividend</th>\n",
              "      <th>Split</th>\n",
              "      <th>Adj_Open</th>\n",
              "      <th>Adj_High</th>\n",
              "      <th>Adj_Low</th>\n",
              "      <th>Adj_Close</th>\n",
              "      <th>Adj_Volume</th>\n",
              "    </tr>\n",
              "    <tr>\n",
              "      <th>Date</th>\n",
              "      <th></th>\n",
              "      <th></th>\n",
              "      <th></th>\n",
              "      <th></th>\n",
              "      <th></th>\n",
              "      <th></th>\n",
              "      <th></th>\n",
              "      <th></th>\n",
              "      <th></th>\n",
              "      <th></th>\n",
              "      <th></th>\n",
              "      <th></th>\n",
              "    </tr>\n",
              "  </thead>\n",
              "  <tbody>\n",
              "    <tr>\n",
              "      <th>2013-09-03</th>\n",
              "      <td>493.10</td>\n",
              "      <td>500.60</td>\n",
              "      <td>487.35</td>\n",
              "      <td>488.580</td>\n",
              "      <td>11854600.0</td>\n",
              "      <td>0.0</td>\n",
              "      <td>1.0</td>\n",
              "      <td>15.619650</td>\n",
              "      <td>15.857223</td>\n",
              "      <td>15.437510</td>\n",
              "      <td>15.476472</td>\n",
              "      <td>331928800.0</td>\n",
              "    </tr>\n",
              "    <tr>\n",
              "      <th>2013-09-04</th>\n",
              "      <td>499.56</td>\n",
              "      <td>502.24</td>\n",
              "      <td>496.28</td>\n",
              "      <td>498.691</td>\n",
              "      <td>12322600.0</td>\n",
              "      <td>0.0</td>\n",
              "      <td>1.0</td>\n",
              "      <td>15.824280</td>\n",
              "      <td>15.909173</td>\n",
              "      <td>15.720381</td>\n",
              "      <td>15.796753</td>\n",
              "      <td>345032800.0</td>\n",
              "    </tr>\n",
              "    <tr>\n",
              "      <th>2013-09-05</th>\n",
              "      <td>500.25</td>\n",
              "      <td>500.68</td>\n",
              "      <td>493.64</td>\n",
              "      <td>495.270</td>\n",
              "      <td>8441700.0</td>\n",
              "      <td>0.0</td>\n",
              "      <td>1.0</td>\n",
              "      <td>15.846136</td>\n",
              "      <td>15.859757</td>\n",
              "      <td>15.636755</td>\n",
              "      <td>15.688388</td>\n",
              "      <td>236367600.0</td>\n",
              "    </tr>\n",
              "    <tr>\n",
              "      <th>2013-09-06</th>\n",
              "      <td>498.44</td>\n",
              "      <td>499.38</td>\n",
              "      <td>489.95</td>\n",
              "      <td>498.220</td>\n",
              "      <td>12840200.0</td>\n",
              "      <td>0.0</td>\n",
              "      <td>1.0</td>\n",
              "      <td>15.788802</td>\n",
              "      <td>15.818578</td>\n",
              "      <td>15.519869</td>\n",
              "      <td>15.781833</td>\n",
              "      <td>359525600.0</td>\n",
              "    </tr>\n",
              "    <tr>\n",
              "      <th>2013-09-09</th>\n",
              "      <td>505.00</td>\n",
              "      <td>507.92</td>\n",
              "      <td>503.48</td>\n",
              "      <td>506.170</td>\n",
              "      <td>12167400.0</td>\n",
              "      <td>0.0</td>\n",
              "      <td>1.0</td>\n",
              "      <td>15.996600</td>\n",
              "      <td>16.089095</td>\n",
              "      <td>15.948451</td>\n",
              "      <td>16.033661</td>\n",
              "      <td>340687200.0</td>\n",
              "    </tr>\n",
              "  </tbody>\n",
              "</table>\n",
              "</div>"
            ],
            "text/plain": [
              "              Open    High     Low  ...    Adj_Low  Adj_Close   Adj_Volume\n",
              "Date                                ...                                   \n",
              "2013-09-03  493.10  500.60  487.35  ...  15.437510  15.476472  331928800.0\n",
              "2013-09-04  499.56  502.24  496.28  ...  15.720381  15.796753  345032800.0\n",
              "2013-09-05  500.25  500.68  493.64  ...  15.636755  15.688388  236367600.0\n",
              "2013-09-06  498.44  499.38  489.95  ...  15.519869  15.781833  359525600.0\n",
              "2013-09-09  505.00  507.92  503.48  ...  15.948451  16.033661  340687200.0\n",
              "\n",
              "[5 rows x 12 columns]"
            ]
          },
          "metadata": {
            "tags": []
          },
          "execution_count": 3
        }
      ]
    },
    {
      "cell_type": "code",
      "metadata": {
        "id": "dlbdjnR0Lsh3"
      },
      "source": [
        "# Adding new columns to df dataframe\r\n",
        "\r\n",
        "# High-low percentage\r\n",
        "df['HL_PCT']=(df['Adj_High']-df['Adj_Low'])/df['Adj_Close']*100.0\r\n",
        "\r\n",
        "# Percentage change\r\n",
        "df['PCT_change']=(df['Adj_Close']-df['Adj_Open'])/df['Adj_Open']*100.0"
      ],
      "execution_count": 4,
      "outputs": []
    },
    {
      "cell_type": "code",
      "metadata": {
        "colab": {
          "base_uri": "https://localhost:8080/",
          "height": 225
        },
        "id": "2QvgqMEzNChP",
        "outputId": "b99b1839-cbe7-4571-f08b-92423add9e7f"
      },
      "source": [
        "df.head()"
      ],
      "execution_count": 5,
      "outputs": [
        {
          "output_type": "execute_result",
          "data": {
            "text/html": [
              "<div>\n",
              "<style scoped>\n",
              "    .dataframe tbody tr th:only-of-type {\n",
              "        vertical-align: middle;\n",
              "    }\n",
              "\n",
              "    .dataframe tbody tr th {\n",
              "        vertical-align: top;\n",
              "    }\n",
              "\n",
              "    .dataframe thead th {\n",
              "        text-align: right;\n",
              "    }\n",
              "</style>\n",
              "<table border=\"1\" class=\"dataframe\">\n",
              "  <thead>\n",
              "    <tr style=\"text-align: right;\">\n",
              "      <th></th>\n",
              "      <th>Open</th>\n",
              "      <th>High</th>\n",
              "      <th>Low</th>\n",
              "      <th>Close</th>\n",
              "      <th>Volume</th>\n",
              "      <th>Dividend</th>\n",
              "      <th>Split</th>\n",
              "      <th>Adj_Open</th>\n",
              "      <th>Adj_High</th>\n",
              "      <th>Adj_Low</th>\n",
              "      <th>Adj_Close</th>\n",
              "      <th>Adj_Volume</th>\n",
              "      <th>HL_PCT</th>\n",
              "      <th>PCT_change</th>\n",
              "    </tr>\n",
              "    <tr>\n",
              "      <th>Date</th>\n",
              "      <th></th>\n",
              "      <th></th>\n",
              "      <th></th>\n",
              "      <th></th>\n",
              "      <th></th>\n",
              "      <th></th>\n",
              "      <th></th>\n",
              "      <th></th>\n",
              "      <th></th>\n",
              "      <th></th>\n",
              "      <th></th>\n",
              "      <th></th>\n",
              "      <th></th>\n",
              "      <th></th>\n",
              "    </tr>\n",
              "  </thead>\n",
              "  <tbody>\n",
              "    <tr>\n",
              "      <th>2013-09-03</th>\n",
              "      <td>493.10</td>\n",
              "      <td>500.60</td>\n",
              "      <td>487.35</td>\n",
              "      <td>488.580</td>\n",
              "      <td>11854600.0</td>\n",
              "      <td>0.0</td>\n",
              "      <td>1.0</td>\n",
              "      <td>15.619650</td>\n",
              "      <td>15.857223</td>\n",
              "      <td>15.437510</td>\n",
              "      <td>15.476472</td>\n",
              "      <td>331928800.0</td>\n",
              "      <td>2.711941</td>\n",
              "      <td>-0.916650</td>\n",
              "    </tr>\n",
              "    <tr>\n",
              "      <th>2013-09-04</th>\n",
              "      <td>499.56</td>\n",
              "      <td>502.24</td>\n",
              "      <td>496.28</td>\n",
              "      <td>498.691</td>\n",
              "      <td>12322600.0</td>\n",
              "      <td>0.0</td>\n",
              "      <td>1.0</td>\n",
              "      <td>15.824280</td>\n",
              "      <td>15.909173</td>\n",
              "      <td>15.720381</td>\n",
              "      <td>15.796753</td>\n",
              "      <td>345032800.0</td>\n",
              "      <td>1.195129</td>\n",
              "      <td>-0.173953</td>\n",
              "    </tr>\n",
              "    <tr>\n",
              "      <th>2013-09-05</th>\n",
              "      <td>500.25</td>\n",
              "      <td>500.68</td>\n",
              "      <td>493.64</td>\n",
              "      <td>495.270</td>\n",
              "      <td>8441700.0</td>\n",
              "      <td>0.0</td>\n",
              "      <td>1.0</td>\n",
              "      <td>15.846136</td>\n",
              "      <td>15.859757</td>\n",
              "      <td>15.636755</td>\n",
              "      <td>15.688388</td>\n",
              "      <td>236367600.0</td>\n",
              "      <td>1.421447</td>\n",
              "      <td>-0.995502</td>\n",
              "    </tr>\n",
              "    <tr>\n",
              "      <th>2013-09-06</th>\n",
              "      <td>498.44</td>\n",
              "      <td>499.38</td>\n",
              "      <td>489.95</td>\n",
              "      <td>498.220</td>\n",
              "      <td>12840200.0</td>\n",
              "      <td>0.0</td>\n",
              "      <td>1.0</td>\n",
              "      <td>15.788802</td>\n",
              "      <td>15.818578</td>\n",
              "      <td>15.519869</td>\n",
              "      <td>15.781833</td>\n",
              "      <td>359525600.0</td>\n",
              "      <td>1.892738</td>\n",
              "      <td>-0.044138</td>\n",
              "    </tr>\n",
              "    <tr>\n",
              "      <th>2013-09-09</th>\n",
              "      <td>505.00</td>\n",
              "      <td>507.92</td>\n",
              "      <td>503.48</td>\n",
              "      <td>506.170</td>\n",
              "      <td>12167400.0</td>\n",
              "      <td>0.0</td>\n",
              "      <td>1.0</td>\n",
              "      <td>15.996600</td>\n",
              "      <td>16.089095</td>\n",
              "      <td>15.948451</td>\n",
              "      <td>16.033661</td>\n",
              "      <td>340687200.0</td>\n",
              "      <td>0.877176</td>\n",
              "      <td>0.231683</td>\n",
              "    </tr>\n",
              "  </tbody>\n",
              "</table>\n",
              "</div>"
            ],
            "text/plain": [
              "              Open    High     Low  ...   Adj_Volume    HL_PCT  PCT_change\n",
              "Date                                ...                                   \n",
              "2013-09-03  493.10  500.60  487.35  ...  331928800.0  2.711941   -0.916650\n",
              "2013-09-04  499.56  502.24  496.28  ...  345032800.0  1.195129   -0.173953\n",
              "2013-09-05  500.25  500.68  493.64  ...  236367600.0  1.421447   -0.995502\n",
              "2013-09-06  498.44  499.38  489.95  ...  359525600.0  1.892738   -0.044138\n",
              "2013-09-09  505.00  507.92  503.48  ...  340687200.0  0.877176    0.231683\n",
              "\n",
              "[5 rows x 14 columns]"
            ]
          },
          "metadata": {
            "tags": []
          },
          "execution_count": 5
        }
      ]
    },
    {
      "cell_type": "code",
      "metadata": {
        "colab": {
          "base_uri": "https://localhost:8080/",
          "height": 225
        },
        "id": "AAZ8QEZ3O1nW",
        "outputId": "320d9ec6-5efd-4737-a877-7b94a1fe9110"
      },
      "source": [
        "# Defining new dataframe of important features\r\n",
        "df = df[['Adj_Close', 'HL_PCT', 'PCT_change', 'Adj_Volume']]\r\n",
        "df.head()"
      ],
      "execution_count": 6,
      "outputs": [
        {
          "output_type": "execute_result",
          "data": {
            "text/html": [
              "<div>\n",
              "<style scoped>\n",
              "    .dataframe tbody tr th:only-of-type {\n",
              "        vertical-align: middle;\n",
              "    }\n",
              "\n",
              "    .dataframe tbody tr th {\n",
              "        vertical-align: top;\n",
              "    }\n",
              "\n",
              "    .dataframe thead th {\n",
              "        text-align: right;\n",
              "    }\n",
              "</style>\n",
              "<table border=\"1\" class=\"dataframe\">\n",
              "  <thead>\n",
              "    <tr style=\"text-align: right;\">\n",
              "      <th></th>\n",
              "      <th>Adj_Close</th>\n",
              "      <th>HL_PCT</th>\n",
              "      <th>PCT_change</th>\n",
              "      <th>Adj_Volume</th>\n",
              "    </tr>\n",
              "    <tr>\n",
              "      <th>Date</th>\n",
              "      <th></th>\n",
              "      <th></th>\n",
              "      <th></th>\n",
              "      <th></th>\n",
              "    </tr>\n",
              "  </thead>\n",
              "  <tbody>\n",
              "    <tr>\n",
              "      <th>2013-09-03</th>\n",
              "      <td>15.476472</td>\n",
              "      <td>2.711941</td>\n",
              "      <td>-0.916650</td>\n",
              "      <td>331928800.0</td>\n",
              "    </tr>\n",
              "    <tr>\n",
              "      <th>2013-09-04</th>\n",
              "      <td>15.796753</td>\n",
              "      <td>1.195129</td>\n",
              "      <td>-0.173953</td>\n",
              "      <td>345032800.0</td>\n",
              "    </tr>\n",
              "    <tr>\n",
              "      <th>2013-09-05</th>\n",
              "      <td>15.688388</td>\n",
              "      <td>1.421447</td>\n",
              "      <td>-0.995502</td>\n",
              "      <td>236367600.0</td>\n",
              "    </tr>\n",
              "    <tr>\n",
              "      <th>2013-09-06</th>\n",
              "      <td>15.781833</td>\n",
              "      <td>1.892738</td>\n",
              "      <td>-0.044138</td>\n",
              "      <td>359525600.0</td>\n",
              "    </tr>\n",
              "    <tr>\n",
              "      <th>2013-09-09</th>\n",
              "      <td>16.033661</td>\n",
              "      <td>0.877176</td>\n",
              "      <td>0.231683</td>\n",
              "      <td>340687200.0</td>\n",
              "    </tr>\n",
              "  </tbody>\n",
              "</table>\n",
              "</div>"
            ],
            "text/plain": [
              "            Adj_Close    HL_PCT  PCT_change   Adj_Volume\n",
              "Date                                                    \n",
              "2013-09-03  15.476472  2.711941   -0.916650  331928800.0\n",
              "2013-09-04  15.796753  1.195129   -0.173953  345032800.0\n",
              "2013-09-05  15.688388  1.421447   -0.995502  236367600.0\n",
              "2013-09-06  15.781833  1.892738   -0.044138  359525600.0\n",
              "2013-09-09  16.033661  0.877176    0.231683  340687200.0"
            ]
          },
          "metadata": {
            "tags": []
          },
          "execution_count": 6
        }
      ]
    },
    {
      "cell_type": "code",
      "metadata": {
        "id": "96eIRKNXPIN3"
      },
      "source": [
        "# Importing modules for data analysis\r\n",
        "import math\r\n",
        "from sklearn import preprocessing\r\n",
        "from sklearn.model_selection import train_test_split\r\n",
        "from sklearn.linear_model import LinearRegression\r\n",
        "from sklearn import metrics"
      ],
      "execution_count": 24,
      "outputs": []
    },
    {
      "cell_type": "code",
      "metadata": {
        "id": "udjR7C1NQX25"
      },
      "source": [
        "price = 'Adj_Close'\r\n",
        "df.fillna(value=-99999, inplace=True)\r\n",
        "\r\n",
        "# Forcasting 1% of the entire length of the dataset\r\n",
        "final_price = int(math.ceil(0.01 * len(df)))"
      ],
      "execution_count": 8,
      "outputs": []
    },
    {
      "cell_type": "code",
      "metadata": {
        "id": "G_6fRNqJVPHD"
      },
      "source": [
        "# label=price\r\n",
        "df['label'] = df[price].shift(-final_price)"
      ],
      "execution_count": 9,
      "outputs": []
    },
    {
      "cell_type": "code",
      "metadata": {
        "colab": {
          "base_uri": "https://localhost:8080/",
          "height": 225
        },
        "id": "mFkqI0GTVirv",
        "outputId": "9c4625ee-492e-4753-89f4-6264aa522e4a"
      },
      "source": [
        "df.head()"
      ],
      "execution_count": 10,
      "outputs": [
        {
          "output_type": "execute_result",
          "data": {
            "text/html": [
              "<div>\n",
              "<style scoped>\n",
              "    .dataframe tbody tr th:only-of-type {\n",
              "        vertical-align: middle;\n",
              "    }\n",
              "\n",
              "    .dataframe tbody tr th {\n",
              "        vertical-align: top;\n",
              "    }\n",
              "\n",
              "    .dataframe thead th {\n",
              "        text-align: right;\n",
              "    }\n",
              "</style>\n",
              "<table border=\"1\" class=\"dataframe\">\n",
              "  <thead>\n",
              "    <tr style=\"text-align: right;\">\n",
              "      <th></th>\n",
              "      <th>Adj_Close</th>\n",
              "      <th>HL_PCT</th>\n",
              "      <th>PCT_change</th>\n",
              "      <th>Adj_Volume</th>\n",
              "      <th>label</th>\n",
              "    </tr>\n",
              "    <tr>\n",
              "      <th>Date</th>\n",
              "      <th></th>\n",
              "      <th></th>\n",
              "      <th></th>\n",
              "      <th></th>\n",
              "      <th></th>\n",
              "    </tr>\n",
              "  </thead>\n",
              "  <tbody>\n",
              "    <tr>\n",
              "      <th>2013-09-03</th>\n",
              "      <td>15.476472</td>\n",
              "      <td>2.711941</td>\n",
              "      <td>-0.916650</td>\n",
              "      <td>331928800.0</td>\n",
              "      <td>14.719406</td>\n",
              "    </tr>\n",
              "    <tr>\n",
              "      <th>2013-09-04</th>\n",
              "      <td>15.796753</td>\n",
              "      <td>1.195129</td>\n",
              "      <td>-0.173953</td>\n",
              "      <td>345032800.0</td>\n",
              "      <td>14.960780</td>\n",
              "    </tr>\n",
              "    <tr>\n",
              "      <th>2013-09-05</th>\n",
              "      <td>15.688388</td>\n",
              "      <td>1.421447</td>\n",
              "      <td>-0.995502</td>\n",
              "      <td>236367600.0</td>\n",
              "      <td>14.805882</td>\n",
              "    </tr>\n",
              "    <tr>\n",
              "      <th>2013-09-06</th>\n",
              "      <td>15.781833</td>\n",
              "      <td>1.892738</td>\n",
              "      <td>-0.044138</td>\n",
              "      <td>359525600.0</td>\n",
              "      <td>15.541726</td>\n",
              "    </tr>\n",
              "    <tr>\n",
              "      <th>2013-09-09</th>\n",
              "      <td>16.033661</td>\n",
              "      <td>0.877176</td>\n",
              "      <td>0.231683</td>\n",
              "      <td>340687200.0</td>\n",
              "      <td>15.492944</td>\n",
              "    </tr>\n",
              "  </tbody>\n",
              "</table>\n",
              "</div>"
            ],
            "text/plain": [
              "            Adj_Close    HL_PCT  PCT_change   Adj_Volume      label\n",
              "Date                                                               \n",
              "2013-09-03  15.476472  2.711941   -0.916650  331928800.0  14.719406\n",
              "2013-09-04  15.796753  1.195129   -0.173953  345032800.0  14.960780\n",
              "2013-09-05  15.688388  1.421447   -0.995502  236367600.0  14.805882\n",
              "2013-09-06  15.781833  1.892738   -0.044138  359525600.0  15.541726\n",
              "2013-09-09  16.033661  0.877176    0.231683  340687200.0  15.492944"
            ]
          },
          "metadata": {
            "tags": []
          },
          "execution_count": 10
        }
      ]
    },
    {
      "cell_type": "code",
      "metadata": {
        "id": "JLsHhMLSzj_K"
      },
      "source": [
        "# Drop NaN rows from dataframe\r\n",
        "df.dropna(inplace=True)"
      ],
      "execution_count": 11,
      "outputs": []
    },
    {
      "cell_type": "code",
      "metadata": {
        "id": "rvi2lHcyz5fo"
      },
      "source": [
        "# Defining X and y for ML algorithm\r\n",
        "X = np.array(df.drop(['label'], 1))\r\n",
        "y = np.array(df['label'])"
      ],
      "execution_count": 12,
      "outputs": []
    },
    {
      "cell_type": "code",
      "metadata": {
        "id": "vewywx4R0GWo"
      },
      "source": [
        "# Preprocessing X in the range -1 to1\r\n",
        "X = preprocessing.scale(X)"
      ],
      "execution_count": 13,
      "outputs": []
    },
    {
      "cell_type": "code",
      "metadata": {
        "id": "4nB-nWUc0ch6"
      },
      "source": [
        "# Splitting into train-test data\r\n",
        "X_train, X_test, y_train, y_test = train_test_split(X, y, test_size=0.2)"
      ],
      "execution_count": 16,
      "outputs": []
    },
    {
      "cell_type": "code",
      "metadata": {
        "colab": {
          "base_uri": "https://localhost:8080/"
        },
        "id": "Sh37dOSf2ilI",
        "outputId": "380209df-9cb4-46b1-cbe3-f2e7aac0433c"
      },
      "source": [
        "# Modelling the data\r\n",
        "linreg = LinearRegression()  \r\n",
        "linreg.fit(X_train, y_train) "
      ],
      "execution_count": 18,
      "outputs": [
        {
          "output_type": "execute_result",
          "data": {
            "text/plain": [
              "LinearRegression(copy_X=True, fit_intercept=True, n_jobs=None, normalize=False)"
            ]
          },
          "metadata": {
            "tags": []
          },
          "execution_count": 18
        }
      ]
    },
    {
      "cell_type": "code",
      "metadata": {
        "id": "FzAz7ud-2pFv"
      },
      "source": [
        "# Predicting the test set\r\n",
        "y_pred=linreg.predict(X_test)"
      ],
      "execution_count": 19,
      "outputs": []
    },
    {
      "cell_type": "code",
      "metadata": {
        "colab": {
          "base_uri": "https://localhost:8080/"
        },
        "id": "TKHs76ym2vIs",
        "outputId": "0db93d38-dce0-489d-87c9-8ae3dde17b63"
      },
      "source": [
        "# Evaluating the model using mean squared error\r\n",
        "print(\"Mean Squared Error: \", metrics.mean_squared_error(y_test, y_pred))"
      ],
      "execution_count": 23,
      "outputs": [
        {
          "output_type": "stream",
          "text": [
            "Mean Squared Error:  1.305806844521906\n"
          ],
          "name": "stdout"
        }
      ]
    }
  ]
}